{
 "cells": [
  {
   "cell_type": "code",
   "execution_count": 1,
   "metadata": {},
   "outputs": [],
   "source": [
    "import pandas as pd \n",
    "from utils import get_imdb_dataset\n",
    "\n",
    "pd.set_option('max_colwidth', 500) # Set display column width to show more content"
   ]
  },
  {
   "cell_type": "code",
   "execution_count": 2,
   "metadata": {},
   "outputs": [
    {
     "name": "stdout",
     "output_type": "stream",
     "text": [
      "data already available, skip downloading.\n",
      "imdb loaded successfully.\n"
     ]
    }
   ],
   "source": [
    "# Load dataset, download if necessary \n",
    "train, test = get_imdb_dataset()"
   ]
  },
  {
   "cell_type": "code",
   "execution_count": 3,
   "metadata": {},
   "outputs": [
    {
     "data": {
      "text/html": [
       "<div>\n",
       "<style scoped>\n",
       "    .dataframe tbody tr th:only-of-type {\n",
       "        vertical-align: middle;\n",
       "    }\n",
       "\n",
       "    .dataframe tbody tr th {\n",
       "        vertical-align: top;\n",
       "    }\n",
       "\n",
       "    .dataframe thead th {\n",
       "        text-align: right;\n",
       "    }\n",
       "</style>\n",
       "<table border=\"1\" class=\"dataframe\">\n",
       "  <thead>\n",
       "    <tr style=\"text-align: right;\">\n",
       "      <th></th>\n",
       "      <th>text</th>\n",
       "      <th>sentiment</th>\n",
       "    </tr>\n",
       "  </thead>\n",
       "  <tbody>\n",
       "    <tr>\n",
       "      <th>9600</th>\n",
       "      <td>I found this film the first time when I was searching for some works in witch Stéphane Rideau had participate, still in an extraordinary ravishment caused by the astonishingly beautiful «Les roseaux sauvages» (in Portuguese, Juncos Silvestres), by André Téchiné. I was searching for similar movies, in the come of age line. I found then «Presque Rien», a movie where the director Sébastien Lifshitz deliciously amazes us, earning a nomination by the Cannes festival in 2000. The story is about tw...</td>\n",
       "      <td>pos</td>\n",
       "    </tr>\n",
       "    <tr>\n",
       "      <th>4682</th>\n",
       "      <td>There are very few movies that are so funny as this one. I was lucky enough to watch this movie at a theater \"reserved\" for movie buffs like me, so it was not so embarrassing sitting there laughing till my jaw was completely sore and my shirt sleeves were all wet from drying my eyes...&lt;br /&gt;&lt;br /&gt;At times the story was a bit \"slow\", but that is perhaps for the best - a bit of rest in-between the rolling amongst the aisles (I nearly fell out of the seat...) was most welcome.</td>\n",
       "      <td>pos</td>\n",
       "    </tr>\n",
       "    <tr>\n",
       "      <th>13216</th>\n",
       "      <td>The premise of this awaited sequel was really good and after the huge success of the remake I expected a lot sincerely.&lt;br /&gt;&lt;br /&gt;The sad truth is that this movie is really absurd and inept. The situations are dumb and beyond reason and the acting is truly awful.&lt;br /&gt;&lt;br /&gt;This time there aren't likable characters or violins unlike the remake. Also, the gore is not that abundant and when it happens it's truly bad.&lt;br /&gt;&lt;br /&gt;The violence is minimal and it's a shame because there are many a...</td>\n",
       "      <td>neg</td>\n",
       "    </tr>\n",
       "    <tr>\n",
       "      <th>6312</th>\n",
       "      <td>\"It's all up to you, Ed?\" \"Now you get to play the game.\" The day my father left my mother, he took me to see this film with his new girlfriend, on opening day at the Cinerama Dome in Hollywood. I was but fourteen years old. I wasn't even entirely sure what I was seeing, but I will never forgot it, especially the scene with Ned Beatty.&lt;br /&gt;&lt;br /&gt;Watching it today, thirty-six years later, it still gives me quivers.&lt;br /&gt;&lt;br /&gt;My father was a huge Burt Reynolds fan, hence the reason for stand...</td>\n",
       "      <td>pos</td>\n",
       "    </tr>\n",
       "    <tr>\n",
       "      <th>5172</th>\n",
       "      <td>These type of movies about young teenagers struggling with their own sexuality were something unique and daring and daring a couple of years ago but more and more movies like this got made over the past few years, making it hard for the movies to still stand out really.&lt;br /&gt;&lt;br /&gt;Also this movie received little publicity, aside from the usual little film festivals that featured this little French movie, as well as the big festivals that are always fond of these type of little movies about e...</td>\n",
       "      <td>pos</td>\n",
       "    </tr>\n",
       "  </tbody>\n",
       "</table>\n",
       "</div>"
      ],
      "text/plain": [
       "                                                                                                                                                                                                                                                                                                                                                                                                                                                                                                                      text  \\\n",
       "9600   I found this film the first time when I was searching for some works in witch Stéphane Rideau had participate, still in an extraordinary ravishment caused by the astonishingly beautiful «Les roseaux sauvages» (in Portuguese, Juncos Silvestres), by André Téchiné. I was searching for similar movies, in the come of age line. I found then «Presque Rien», a movie where the director Sébastien Lifshitz deliciously amazes us, earning a nomination by the Cannes festival in 2000. The story is about tw...   \n",
       "4682                        There are very few movies that are so funny as this one. I was lucky enough to watch this movie at a theater \"reserved\" for movie buffs like me, so it was not so embarrassing sitting there laughing till my jaw was completely sore and my shirt sleeves were all wet from drying my eyes...<br /><br />At times the story was a bit \"slow\", but that is perhaps for the best - a bit of rest in-between the rolling amongst the aisles (I nearly fell out of the seat...) was most welcome.   \n",
       "13216  The premise of this awaited sequel was really good and after the huge success of the remake I expected a lot sincerely.<br /><br />The sad truth is that this movie is really absurd and inept. The situations are dumb and beyond reason and the acting is truly awful.<br /><br />This time there aren't likable characters or violins unlike the remake. Also, the gore is not that abundant and when it happens it's truly bad.<br /><br />The violence is minimal and it's a shame because there are many a...   \n",
       "6312   \"It's all up to you, Ed?\" \"Now you get to play the game.\" The day my father left my mother, he took me to see this film with his new girlfriend, on opening day at the Cinerama Dome in Hollywood. I was but fourteen years old. I wasn't even entirely sure what I was seeing, but I will never forgot it, especially the scene with Ned Beatty.<br /><br />Watching it today, thirty-six years later, it still gives me quivers.<br /><br />My father was a huge Burt Reynolds fan, hence the reason for stand...   \n",
       "5172   These type of movies about young teenagers struggling with their own sexuality were something unique and daring and daring a couple of years ago but more and more movies like this got made over the past few years, making it hard for the movies to still stand out really.<br /><br />Also this movie received little publicity, aside from the usual little film festivals that featured this little French movie, as well as the big festivals that are always fond of these type of little movies about e...   \n",
       "\n",
       "      sentiment  \n",
       "9600        pos  \n",
       "4682        pos  \n",
       "13216       neg  \n",
       "6312        pos  \n",
       "5172        pos  "
      ]
     },
     "execution_count": 3,
     "metadata": {},
     "output_type": "execute_result"
    }
   ],
   "source": [
    "# get a sample (head) of the data frame\n",
    "train.sample(5)"
   ]
  },
  {
   "cell_type": "code",
   "execution_count": 4,
   "metadata": {},
   "outputs": [
    {
     "name": "stdout",
     "output_type": "stream",
     "text": [
      "train shape (25000, 2)\n",
      "test shape (25000, 2)\n"
     ]
    }
   ],
   "source": [
    "print('train shape', train.shape)\n",
    "print('test shape', test.shape)"
   ]
  },
  {
   "cell_type": "code",
   "execution_count": 5,
   "metadata": {},
   "outputs": [
    {
     "data": {
      "text/plain": [
       "pos    12500\n",
       "neg    12500\n",
       "Name: sentiment, dtype: int64"
      ]
     },
     "execution_count": 5,
     "metadata": {},
     "output_type": "execute_result"
    }
   ],
   "source": [
    "# Statics on tags \n",
    "train['sentiment'].value_counts()"
   ]
  },
  {
   "cell_type": "markdown",
   "metadata": {},
   "source": [
    "# Preprocessing \n",
    "## Tokenization and Normalization \n",
    "For preprocessing, we will aplly the following steps:\n",
    "\n",
    "1. Remove HTML tag (`<br />` in this case) from the review text\n",
    "2. Remove punctuations (replace with whitespace)\n",
    "3. Split review text into tokens\n",
    "4. Remove tokens that are considered as \"stopwords\"\n",
    "5. For the rest, do lemmatization. "
   ]
  },
  {
   "cell_type": "code",
   "execution_count": 6,
   "metadata": {},
   "outputs": [],
   "source": [
    "import nltk\n",
    "import string "
   ]
  },
  {
   "cell_type": "code",
   "execution_count": 19,
   "metadata": {},
   "outputs": [],
   "source": [
    "transtbl = str.maketrans(string.punctuation, ' '*len(string.punctuation))\n",
    "stopwords = nltk.corpus.stopwords.words('english')\n",
    "lemmatizer = nltk.WordNetLemmatizer()"
   ]
  },
  {
   "cell_type": "code",
   "execution_count": 20,
   "metadata": {},
   "outputs": [
    {
     "data": {
      "text/plain": [
       "['i', 'me', 'my', 'myself', 'we', 'our', 'ours', 'ourselves', 'you', \"you're\"]"
      ]
     },
     "execution_count": 20,
     "metadata": {},
     "output_type": "execute_result"
    }
   ],
   "source": [
    "stopwords[:10]"
   ]
  },
  {
   "cell_type": "code",
   "execution_count": 21,
   "metadata": {},
   "outputs": [
    {
     "data": {
      "text/plain": [
       "'!\"#$%&\\'()*+,-./:;<=>?@[\\\\]^_`{|}~'"
      ]
     },
     "execution_count": 21,
     "metadata": {},
     "output_type": "execute_result"
    }
   ],
   "source": [
    "string.punctuation"
   ]
  },
  {
   "cell_type": "code",
   "execution_count": 22,
   "metadata": {},
   "outputs": [
    {
     "data": {
      "text/plain": [
       "'dedef'"
      ]
     },
     "execution_count": 22,
     "metadata": {},
     "output_type": "execute_result"
    }
   ],
   "source": [
    "'ababc'.translate(str.maketrans('abc','def'))"
   ]
  },
  {
   "cell_type": "code",
   "execution_count": 25,
   "metadata": {},
   "outputs": [],
   "source": [
    "def preprocessing(line: str) -> str:\n",
    "    \"\"\"\n",
    "    Take a text input and return the preprocessed string.\n",
    "    i.e.: preprocessed tokens concatenated by whitespace\n",
    "    \"\"\"\n",
    "    line = line.replace('<br />','').translate(transtbl)\n",
    "    \n",
    "    # List \n",
    "    tokens = [lemmatizer.lemmatize(t.lower(),'v')\n",
    "              for t in nltk.word_tokenize(line)\n",
    "              if t.lower() not in stopwords]\n",
    "    return ' '.join(tokens)"
   ]
  },
  {
   "cell_type": "code",
   "execution_count": 26,
   "metadata": {},
   "outputs": [
    {
     "data": {
      "text/plain": [
       "'buy several book yesterday really love'"
      ]
     },
     "execution_count": 26,
     "metadata": {},
     "output_type": "execute_result"
    }
   ],
   "source": [
    "test_str = \"I bought several books yesterday<br /> and I really love them!\"\n",
    "preprocessing(test_str)"
   ]
  },
  {
   "cell_type": "code",
   "execution_count": 27,
   "metadata": {},
   "outputs": [],
   "source": [
    "from tqdm._tqdm_notebook import tqdm_notebook"
   ]
  },
  {
   "cell_type": "code",
   "execution_count": 28,
   "metadata": {},
   "outputs": [],
   "source": [
    "tqdm_notebook.pandas()"
   ]
  },
  {
   "cell_type": "code",
   "execution_count": 30,
   "metadata": {},
   "outputs": [
    {
     "data": {
      "application/vnd.jupyter.widget-view+json": {
       "model_id": "c1270681e49645aa81ff066767f72de2",
       "version_major": 2,
       "version_minor": 0
      },
      "text/plain": [
       "HBox(children=(IntProgress(value=0, max=25000), HTML(value='')))"
      ]
     },
     "metadata": {},
     "output_type": "display_data"
    },
    {
     "name": "stdout",
     "output_type": "stream",
     "text": [
      "\n"
     ]
    },
    {
     "data": {
      "application/vnd.jupyter.widget-view+json": {
       "model_id": "81f7f86fcce344679e23e5bee7fa2c65",
       "version_major": 2,
       "version_minor": 0
      },
      "text/plain": [
       "HBox(children=(IntProgress(value=0, max=25000), HTML(value='')))"
      ]
     },
     "metadata": {},
     "output_type": "display_data"
    },
    {
     "name": "stdout",
     "output_type": "stream",
     "text": [
      "\n"
     ]
    }
   ],
   "source": [
    "for df in train, test:\n",
    "    df['text_prep'] = df['text'].progress_apply(preprocessing)"
   ]
  },
  {
   "cell_type": "code",
   "execution_count": 31,
   "metadata": {},
   "outputs": [
    {
     "data": {
      "text/html": [
       "<div>\n",
       "<style scoped>\n",
       "    .dataframe tbody tr th:only-of-type {\n",
       "        vertical-align: middle;\n",
       "    }\n",
       "\n",
       "    .dataframe tbody tr th {\n",
       "        vertical-align: top;\n",
       "    }\n",
       "\n",
       "    .dataframe thead th {\n",
       "        text-align: right;\n",
       "    }\n",
       "</style>\n",
       "<table border=\"1\" class=\"dataframe\">\n",
       "  <thead>\n",
       "    <tr style=\"text-align: right;\">\n",
       "      <th></th>\n",
       "      <th>text</th>\n",
       "      <th>sentiment</th>\n",
       "      <th>text_prep</th>\n",
       "    </tr>\n",
       "  </thead>\n",
       "  <tbody>\n",
       "    <tr>\n",
       "      <th>0</th>\n",
       "      <td>For a movie that gets no respect there sure are a lot of memorable quotes listed for this gem. Imagine a movie where Joe Piscopo is actually funny! Maureen Stapleton is a scene stealer. The Moroni character is an absolute scream. Watch for Alan \"The Skipper\" Hale jr. as a police Sgt.</td>\n",
       "      <td>pos</td>\n",
       "      <td>movie get respect sure lot memorable quote list gem imagine movie joe piscopo actually funny maureen stapleton scene stealer moroni character absolute scream watch alan skipper hale jr police sgt</td>\n",
       "    </tr>\n",
       "    <tr>\n",
       "      <th>1</th>\n",
       "      <td>Bizarre horror movie filled with famous faces but stolen by Cristina Raines (later of TV's \"Flamingo Road\") as a pretty but somewhat unstable model with a gummy smile who is slated to pay for her attempted suicides by guarding the Gateway to Hell! The scenes with Raines modeling are very well captured, the mood music is perfect, Deborah Raffin is charming as Cristina's pal, but when Raines moves into a creepy Brooklyn Heights brownstone (inhabited by a blind priest on the top floor), things ...</td>\n",
       "      <td>pos</td>\n",
       "      <td>bizarre horror movie fill famous face steal cristina rain later tv flamingo road pretty somewhat unstable model gummy smile slat pay attempt suicides guard gateway hell scenes rain model well capture mood music perfect deborah raffin charm cristina pal rain move creepy brooklyn heights brownstone inhabit blind priest top floor things really start cook neighbor include fantastically wicked burgess meredith kinky couple sylvia miles beverly angelo diabolical lot eli wallach great fun wily poli...</td>\n",
       "    </tr>\n",
       "    <tr>\n",
       "      <th>2</th>\n",
       "      <td>A solid, if unremarkable film. Matthau, as Einstein, was wonderful. My favorite part, and the only thing that would make me go out of my way to see this again, was the wonderful scene with the physicists playing badmitton, I loved the sweaters and the conversation while they waited for Robbins to retrieve the birdie.</td>\n",
       "      <td>pos</td>\n",
       "      <td>solid unremarkable film matthau einstein wonderful favorite part thing would make go way see wonderful scene physicists play badmitton love sweaters conversation wait robbins retrieve birdie</td>\n",
       "    </tr>\n",
       "    <tr>\n",
       "      <th>3</th>\n",
       "      <td>It's a strange feeling to sit alone in a theater occupied by parents and their rollicking kids. I felt like instead of a movie ticket, I should have been given a NAMBLA membership.&lt;br /&gt;&lt;br /&gt;Based upon Thomas Rockwell's respected Book, How To Eat Fried Worms starts like any children's story: moving to a new town. The new kid, fifth grader Billy Forrester was once popular, but has to start anew. Making friends is never easy, especially when the only prospect is Poindexter Adam. Or Erica, who...</td>\n",
       "      <td>pos</td>\n",
       "      <td>strange feel sit alone theater occupy parent rollick kid felt like instead movie ticket give nambla membership base upon thomas rockwell respect book eat fry worm start like children story move new town new kid fifth grader billy forrester popular start anew make friends never easy especially prospect poindexter adam erica 4 1 2 feet giant complicate things joe bully freckle face sleeveless shirt daunt antagonize kid death ring crackerjack ring rumor kill punch immediately death ring unleash...</td>\n",
       "    </tr>\n",
       "    <tr>\n",
       "      <th>4</th>\n",
       "      <td>You probably all already know this by now, but 5 additional episodes never aired can be viewed on ABC.com I've watched a lot of television over the years and this is possibly my favorite show, ever. It's a crime that this beautifully written and acted show was canceled. The actors that played Laura, Whit, Carlos, Mae, Damian, Anya and omg, Steven Caseman - are all incredible and so natural in those roles. Even the kids are great. Wonderful show. So sad that it's gone. Of course I wonder abou...</td>\n",
       "      <td>pos</td>\n",
       "      <td>probably already know 5 additional episodes never air view abc com watch lot television years possibly favorite show ever crime beautifully write act show cancel actors play laura whit carlos mae damian anya omg steven caseman incredible natural roles even kid great wonderful show sad go course wonder reason cancel way let believe ms moynahan pregnancy anything perfect time slot market watch episodes abc com hope come dvd day thank read</td>\n",
       "    </tr>\n",
       "  </tbody>\n",
       "</table>\n",
       "</div>"
      ],
      "text/plain": [
       "                                                                                                                                                                                                                                                                                                                                                                                                                                                                                                                  text  \\\n",
       "0                                                                                                                                                                                                                         For a movie that gets no respect there sure are a lot of memorable quotes listed for this gem. Imagine a movie where Joe Piscopo is actually funny! Maureen Stapleton is a scene stealer. The Moroni character is an absolute scream. Watch for Alan \"The Skipper\" Hale jr. as a police Sgt.   \n",
       "1  Bizarre horror movie filled with famous faces but stolen by Cristina Raines (later of TV's \"Flamingo Road\") as a pretty but somewhat unstable model with a gummy smile who is slated to pay for her attempted suicides by guarding the Gateway to Hell! The scenes with Raines modeling are very well captured, the mood music is perfect, Deborah Raffin is charming as Cristina's pal, but when Raines moves into a creepy Brooklyn Heights brownstone (inhabited by a blind priest on the top floor), things ...   \n",
       "2                                                                                                                                                                                       A solid, if unremarkable film. Matthau, as Einstein, was wonderful. My favorite part, and the only thing that would make me go out of my way to see this again, was the wonderful scene with the physicists playing badmitton, I loved the sweaters and the conversation while they waited for Robbins to retrieve the birdie.   \n",
       "3  It's a strange feeling to sit alone in a theater occupied by parents and their rollicking kids. I felt like instead of a movie ticket, I should have been given a NAMBLA membership.<br /><br />Based upon Thomas Rockwell's respected Book, How To Eat Fried Worms starts like any children's story: moving to a new town. The new kid, fifth grader Billy Forrester was once popular, but has to start anew. Making friends is never easy, especially when the only prospect is Poindexter Adam. Or Erica, who...   \n",
       "4  You probably all already know this by now, but 5 additional episodes never aired can be viewed on ABC.com I've watched a lot of television over the years and this is possibly my favorite show, ever. It's a crime that this beautifully written and acted show was canceled. The actors that played Laura, Whit, Carlos, Mae, Damian, Anya and omg, Steven Caseman - are all incredible and so natural in those roles. Even the kids are great. Wonderful show. So sad that it's gone. Of course I wonder abou...   \n",
       "\n",
       "  sentiment  \\\n",
       "0       pos   \n",
       "1       pos   \n",
       "2       pos   \n",
       "3       pos   \n",
       "4       pos   \n",
       "\n",
       "                                                                                                                                                                                                                                                                                                                                                                                                                                                                                                             text_prep  \n",
       "0                                                                                                                                                                                                                                                                                                                  movie get respect sure lot memorable quote list gem imagine movie joe piscopo actually funny maureen stapleton scene stealer moroni character absolute scream watch alan skipper hale jr police sgt  \n",
       "1  bizarre horror movie fill famous face steal cristina rain later tv flamingo road pretty somewhat unstable model gummy smile slat pay attempt suicides guard gateway hell scenes rain model well capture mood music perfect deborah raffin charm cristina pal rain move creepy brooklyn heights brownstone inhabit blind priest top floor things really start cook neighbor include fantastically wicked burgess meredith kinky couple sylvia miles beverly angelo diabolical lot eli wallach great fun wily poli...  \n",
       "2                                                                                                                                                                                                                                                                                                                       solid unremarkable film matthau einstein wonderful favorite part thing would make go way see wonderful scene physicists play badmitton love sweaters conversation wait robbins retrieve birdie  \n",
       "3  strange feel sit alone theater occupy parent rollick kid felt like instead movie ticket give nambla membership base upon thomas rockwell respect book eat fry worm start like children story move new town new kid fifth grader billy forrester popular start anew make friends never easy especially prospect poindexter adam erica 4 1 2 feet giant complicate things joe bully freckle face sleeveless shirt daunt antagonize kid death ring crackerjack ring rumor kill punch immediately death ring unleash...  \n",
       "4                                                             probably already know 5 additional episodes never air view abc com watch lot television years possibly favorite show ever crime beautifully write act show cancel actors play laura whit carlos mae damian anya omg steven caseman incredible natural roles even kid great wonderful show sad go course wonder reason cancel way let believe ms moynahan pregnancy anything perfect time slot market watch episodes abc com hope come dvd day thank read  "
      ]
     },
     "execution_count": 31,
     "metadata": {},
     "output_type": "execute_result"
    }
   ],
   "source": [
    "train.head()"
   ]
  },
  {
   "cell_type": "code",
   "execution_count": 32,
   "metadata": {},
   "outputs": [],
   "source": [
    "assert train.shape == (25000,3)\n",
    "assert test.shape == (25000,3)"
   ]
  },
  {
   "cell_type": "code",
   "execution_count": 33,
   "metadata": {},
   "outputs": [
    {
     "data": {
      "text/html": [
       "<div>\n",
       "<style scoped>\n",
       "    .dataframe tbody tr th:only-of-type {\n",
       "        vertical-align: middle;\n",
       "    }\n",
       "\n",
       "    .dataframe tbody tr th {\n",
       "        vertical-align: top;\n",
       "    }\n",
       "\n",
       "    .dataframe thead th {\n",
       "        text-align: right;\n",
       "    }\n",
       "</style>\n",
       "<table border=\"1\" class=\"dataframe\">\n",
       "  <thead>\n",
       "    <tr style=\"text-align: right;\">\n",
       "      <th></th>\n",
       "      <th>text</th>\n",
       "      <th>sentiment</th>\n",
       "      <th>text_prep</th>\n",
       "    </tr>\n",
       "  </thead>\n",
       "  <tbody>\n",
       "    <tr>\n",
       "      <th>1049</th>\n",
       "      <td>The first step to getting off of that road that leads to nowhere is recognizing that you're on it in the first place; then it becomes a matter of being assertive and taking positive steps to overcome the negative influences in your life that may have put you on that road to begin with. Which is exactly what a young Latino girl does in `Girlfight,' written and directed by Karyn Kusama. Diana (Michelle Rodriguez) is an eighteen-year-old High School senior from the projects in Brooklyn, facing ...</td>\n",
       "      <td>pos</td>\n",
       "      <td>first step get road lead nowhere recognize first place become matter assertive take positive step overcome negative influence life may put road begin exactly young latino girl girlfight write direct karyn kusama diana michelle rodriguez eighteen year old high school senior project brooklyn face expulsion fourth fight halls since begin semester affect whatever attitude mask deep seat anger threaten take place rather go live father sandro paul calderon tentative relationship younger brother ti...</td>\n",
       "    </tr>\n",
       "    <tr>\n",
       "      <th>15997</th>\n",
       "      <td>The pakage implies that Warren Beatty and Goldie Hawn are pulling off a huge bank robbery, but that's not what I got out of it! I didn't get anything! In the first half there's a new character (without introduction) in every other scene. The first half-hour is completely incomprehensible, the rest is just one long, annoying, underlit chase scene. There's always an irritating sound in the background whether it's a loud watch ticking, a blaring siren, a train whistling, or even the horrible sc...</td>\n",
       "      <td>neg</td>\n",
       "      <td>pakage imply warren beatty goldie hawn pull huge bank robbery get get anything first half new character without introduction every scene first half hour completely incomprehensible rest one long annoy underlit chase scene always irritate sound background whether loud watch tick blare siren train whistle even horrible score quincy jones lot part laughably bad like bad guy chase beatty thin ice car police arrive scene roughly fifteen time really hat movie</td>\n",
       "    </tr>\n",
       "  </tbody>\n",
       "</table>\n",
       "</div>"
      ],
      "text/plain": [
       "                                                                                                                                                                                                                                                                                                                                                                                                                                                                                                                      text  \\\n",
       "1049   The first step to getting off of that road that leads to nowhere is recognizing that you're on it in the first place; then it becomes a matter of being assertive and taking positive steps to overcome the negative influences in your life that may have put you on that road to begin with. Which is exactly what a young Latino girl does in `Girlfight,' written and directed by Karyn Kusama. Diana (Michelle Rodriguez) is an eighteen-year-old High School senior from the projects in Brooklyn, facing ...   \n",
       "15997  The pakage implies that Warren Beatty and Goldie Hawn are pulling off a huge bank robbery, but that's not what I got out of it! I didn't get anything! In the first half there's a new character (without introduction) in every other scene. The first half-hour is completely incomprehensible, the rest is just one long, annoying, underlit chase scene. There's always an irritating sound in the background whether it's a loud watch ticking, a blaring siren, a train whistling, or even the horrible sc...   \n",
       "\n",
       "      sentiment  \\\n",
       "1049        pos   \n",
       "15997       neg   \n",
       "\n",
       "                                                                                                                                                                                                                                                                                                                                                                                                                                                                                                                 text_prep  \n",
       "1049   first step get road lead nowhere recognize first place become matter assertive take positive step overcome negative influence life may put road begin exactly young latino girl girlfight write direct karyn kusama diana michelle rodriguez eighteen year old high school senior project brooklyn face expulsion fourth fight halls since begin semester affect whatever attitude mask deep seat anger threaten take place rather go live father sandro paul calderon tentative relationship younger brother ti...  \n",
       "15997                                            pakage imply warren beatty goldie hawn pull huge bank robbery get get anything first half new character without introduction every scene first half hour completely incomprehensible rest one long annoy underlit chase scene always irritate sound background whether loud watch tick blare siren train whistle even horrible score quincy jones lot part laughably bad like bad guy chase beatty thin ice car police arrive scene roughly fifteen time really hat movie  "
      ]
     },
     "execution_count": 33,
     "metadata": {},
     "output_type": "execute_result"
    }
   ],
   "source": [
    "train.sample(2)"
   ]
  },
  {
   "cell_type": "markdown",
   "metadata": {},
   "source": [
    "## Build Vocabulary\n",
    "Instead of using `CountVectorizer` (N-gram) provided by sklearn directly, we will build the vocabulary on our own, so that we have more control over it. \n",
    "\n",
    "<span style=\"color:red\">**Tips:**</span>\n",
    "\n",
    "We can only use words in training data for building vocabulary. "
   ]
  },
  {
   "cell_type": "code",
   "execution_count": 34,
   "metadata": {},
   "outputs": [
    {
     "data": {
      "application/vnd.jupyter.widget-view+json": {
       "model_id": "f81611135ceb441da48348a67f7a1f55",
       "version_major": 2,
       "version_minor": 0
      },
      "text/plain": [
       "HBox(children=(IntProgress(value=0, max=25000), HTML(value='')))"
      ]
     },
     "metadata": {},
     "output_type": "display_data"
    },
    {
     "name": "stdout",
     "output_type": "stream",
     "text": [
      "\n"
     ]
    }
   ],
   "source": [
    "all_words = [w for text in tqdm_notebook(train['text_prep'])\n",
    "            for w in text.split()]"
   ]
  },
  {
   "cell_type": "code",
   "execution_count": 35,
   "metadata": {},
   "outputs": [
    {
     "name": "stdout",
     "output_type": "stream",
     "text": [
      "<FreqDist with 65081 samples and 3022531 outcomes>\n"
     ]
    }
   ],
   "source": [
    "# Use FreqDist to get count for each word\n",
    "voca = nltk.FreqDist(all_words)\n",
    "print(voca)"
   ]
  },
  {
   "cell_type": "code",
   "execution_count": 36,
   "metadata": {},
   "outputs": [
    {
     "data": {
      "text/plain": [
       "[('film', 48170),\n",
       " ('movie', 43912),\n",
       " ('one', 26747),\n",
       " ('make', 23538),\n",
       " ('like', 22335),\n",
       " ('see', 20773),\n",
       " ('get', 18108),\n",
       " ('time', 16143),\n",
       " ('good', 15124),\n",
       " ('character', 14153)]"
      ]
     },
     "execution_count": 36,
     "metadata": {},
     "output_type": "execute_result"
    }
   ],
   "source": [
    "voca.most_common(10)"
   ]
  },
  {
   "cell_type": "code",
   "execution_count": 37,
   "metadata": {},
   "outputs": [],
   "source": [
    "topwords = [word for word, _ in voca.most_common(10000)]"
   ]
  },
  {
   "cell_type": "markdown",
   "metadata": {},
   "source": [
    "## Vectorizer\n",
    "For this section, we will try two ways to vectorization: **BoW** (1-gram) and **BoW with Tfidf Transformer**."
   ]
  },
  {
   "cell_type": "code",
   "execution_count": 38,
   "metadata": {},
   "outputs": [],
   "source": [
    "from sklearn.feature_extraction.text import (\n",
    "    CountVectorizer,\n",
    "    TfidfTransformer,\n",
    "    TfidfVectorizer,)"
   ]
  },
  {
   "cell_type": "code",
   "execution_count": 39,
   "metadata": {},
   "outputs": [
    {
     "data": {
      "text/plain": [
       "CountVectorizer(analyzer='word', binary=False, decode_error='strict',\n",
       "        dtype=<class 'numpy.int64'>, encoding='utf-8', input='content',\n",
       "        lowercase=True, max_df=1.0, max_features=None, min_df=1,\n",
       "        ngram_range=(1, 1), preprocessor=None, stop_words=None,\n",
       "        strip_accents=None, token_pattern='(?u)\\\\b\\\\w\\\\w+\\\\b',\n",
       "        tokenizer=None, vocabulary=None)"
      ]
     },
     "execution_count": 39,
     "metadata": {},
     "output_type": "execute_result"
    }
   ],
   "source": [
    "CountVectorizer()"
   ]
  },
  {
   "cell_type": "markdown",
   "metadata": {},
   "source": [
    "### Tf-idf Transformer"
   ]
  },
  {
   "cell_type": "code",
   "execution_count": 43,
   "metadata": {},
   "outputs": [
    {
     "data": {
      "text/plain": [
       "TfidfTransformer(norm='l2', smooth_idf=False, sublinear_tf=False,\n",
       "         use_idf=True)"
      ]
     },
     "execution_count": 43,
     "metadata": {},
     "output_type": "execute_result"
    }
   ],
   "source": [
    "transformer = TfidfTransformer(smooth_idf= False )\n",
    "transformer"
   ]
  },
  {
   "cell_type": "code",
   "execution_count": 44,
   "metadata": {},
   "outputs": [
    {
     "data": {
      "text/plain": [
       "<6x3 sparse matrix of type '<class 'numpy.float64'>'\n",
       "\twith 9 stored elements in Compressed Sparse Row format>"
      ]
     },
     "execution_count": 44,
     "metadata": {},
     "output_type": "execute_result"
    }
   ],
   "source": [
    "counts = [[3,0,1],\n",
    "          [2,0,0],\n",
    "          [3,0,0],\n",
    "          [4,0,0],\n",
    "          [3,2,0],\n",
    "          [3,0,2]]\n",
    "tfidf = transformer.fit_transform(counts)\n",
    "tfidf"
   ]
  },
  {
   "cell_type": "code",
   "execution_count": 45,
   "metadata": {},
   "outputs": [
    {
     "data": {
      "text/plain": [
       "array([[0.81940995, 0.        , 0.57320793],\n",
       "       [1.        , 0.        , 0.        ],\n",
       "       [1.        , 0.        , 0.        ],\n",
       "       [1.        , 0.        , 0.        ],\n",
       "       [0.47330339, 0.88089948, 0.        ],\n",
       "       [0.58149261, 0.        , 0.81355169]])"
      ]
     },
     "execution_count": 45,
     "metadata": {},
     "output_type": "execute_result"
    }
   ],
   "source": [
    "tfidf.toarray()"
   ]
  },
  {
   "cell_type": "code",
   "execution_count": 46,
   "metadata": {},
   "outputs": [
    {
     "data": {
      "text/plain": [
       "TfidfVectorizer(analyzer='word', binary=False, decode_error='strict',\n",
       "        dtype=<class 'numpy.float64'>, encoding='utf-8', input='content',\n",
       "        lowercase=True, max_df=1.0, max_features=None, min_df=1,\n",
       "        ngram_range=(1, 1), norm='l2', preprocessor=None, smooth_idf=True,\n",
       "        stop_words=None, strip_accents=None, sublinear_tf=False,\n",
       "        token_pattern='(?u)\\\\b\\\\w\\\\w+\\\\b', tokenizer=None, use_idf=True,\n",
       "        vocabulary=None)"
      ]
     },
     "execution_count": 46,
     "metadata": {},
     "output_type": "execute_result"
    }
   ],
   "source": [
    "TfidfVectorizer()"
   ]
  },
  {
   "cell_type": "markdown",
   "metadata": {},
   "source": [
    "Let's take the sentences from the slide as an exmample:"
   ]
  },
  {
   "cell_type": "code",
   "execution_count": 47,
   "metadata": {},
   "outputs": [],
   "source": [
    "t_corpus = ['the boy love the toy', 'the boy hate the toy']"
   ]
  },
  {
   "cell_type": "code",
   "execution_count": 48,
   "metadata": {},
   "outputs": [
    {
     "data": {
      "text/plain": [
       "array([[1, 0, 1, 2, 1],\n",
       "       [1, 1, 0, 2, 1]])"
      ]
     },
     "execution_count": 48,
     "metadata": {},
     "output_type": "execute_result"
    }
   ],
   "source": [
    "# Bag of words\n",
    "# Voc = ['boy', 'hate', 'love', 'the', 'toy']\n",
    "t_cnt_vec = CountVectorizer()\n",
    "t_cnt_vec.fit(' '.join(t_corpus).split())\n",
    "t_cnt_vec.transform(t_corpus).toarray()"
   ]
  },
  {
   "cell_type": "code",
   "execution_count": 49,
   "metadata": {},
   "outputs": [
    {
     "data": {
      "text/plain": [
       "array([[0.41508858, 0.        , 0.48828702, 0.6457389 , 0.41508858],\n",
       "       [0.41508858, 0.48828702, 0.        , 0.6457389 , 0.41508858]])"
      ]
     },
     "execution_count": 49,
     "metadata": {},
     "output_type": "execute_result"
    }
   ],
   "source": [
    "t_cnt_vec = TfidfVectorizer()\n",
    "t_cnt_vec.fit(' '.join(t_corpus).split())\n",
    "t_cnt_vec.transform(t_corpus).toarray()"
   ]
  },
  {
   "cell_type": "markdown",
   "metadata": {},
   "source": [
    "## Vectorization/ Featurization "
   ]
  },
  {
   "cell_type": "code",
   "execution_count": 50,
   "metadata": {},
   "outputs": [],
   "source": [
    "train_x, train_y = train['text_prep'], train['sentiment']\n",
    "test_x, test_y = test['text_prep'], test['sentiment']"
   ]
  },
  {
   "cell_type": "code",
   "execution_count": 51,
   "metadata": {},
   "outputs": [],
   "source": [
    "# Use topwords as vocabulary \n",
    "tf_vec = TfidfVectorizer(vocabulary = topwords)"
   ]
  },
  {
   "cell_type": "code",
   "execution_count": 52,
   "metadata": {},
   "outputs": [],
   "source": [
    "train_features = tf_vec.fit_transform(train_x)\n",
    "test_features = tf_vec.transform(test_x)\n",
    "# why one is fit_transform one is transform?"
   ]
  },
  {
   "cell_type": "code",
   "execution_count": 55,
   "metadata": {},
   "outputs": [],
   "source": [
    "assert train_features.shape == (25000, 10000)\n",
    "assert test_features.shape == (25000, 10000)"
   ]
  },
  {
   "cell_type": "code",
   "execution_count": 57,
   "metadata": {},
   "outputs": [
    {
     "data": {
      "text/plain": [
       "array([[0.        , 0.12884974, 0.        , ..., 0.        , 0.        ,\n",
       "        0.        ]])"
      ]
     },
     "execution_count": 57,
     "metadata": {},
     "output_type": "execute_result"
    }
   ],
   "source": [
    "train_features[0][:50].toarray()"
   ]
  },
  {
   "cell_type": "markdown",
   "metadata": {},
   "source": [
    "# Training \n",
    "## Multinomial NB\n",
    "The multinomial Naive Bayes classifier is suitable for classification with discrete features (e.g. word counts for text classification). The multinomial distribution normally requires integer feature counts. However, in practice, fractional counts such as tf-idf may also work. "
   ]
  },
  {
   "cell_type": "code",
   "execution_count": 59,
   "metadata": {},
   "outputs": [],
   "source": [
    "from sklearn.naive_bayes import MultinomialNB"
   ]
  },
  {
   "cell_type": "code",
   "execution_count": 60,
   "metadata": {},
   "outputs": [
    {
     "data": {
      "text/plain": [
       "MultinomialNB(alpha=1.0, class_prior=None, fit_prior=True)"
      ]
     },
     "execution_count": 60,
     "metadata": {},
     "output_type": "execute_result"
    }
   ],
   "source": [
    "mnb_model = MultinomialNB()\n",
    "mnb_model"
   ]
  },
  {
   "cell_type": "code",
   "execution_count": 61,
   "metadata": {},
   "outputs": [
    {
     "name": "stdout",
     "output_type": "stream",
     "text": [
      "CPU times: user 48.6 ms, sys: 12 µs, total: 48.7 ms\n",
      "Wall time: 47.7 ms\n"
     ]
    },
    {
     "data": {
      "text/plain": [
       "MultinomialNB(alpha=1.0, class_prior=None, fit_prior=True)"
      ]
     },
     "execution_count": 61,
     "metadata": {},
     "output_type": "execute_result"
    }
   ],
   "source": [
    "%%time\n",
    "\n",
    "#Train Model \n",
    "mnb_model.fit(train_features, train_y)"
   ]
  },
  {
   "cell_type": "markdown",
   "metadata": {},
   "source": [
    "# Evaluation "
   ]
  },
  {
   "cell_type": "code",
   "execution_count": 62,
   "metadata": {},
   "outputs": [],
   "source": [
    "from sklearn import metrics "
   ]
  },
  {
   "cell_type": "code",
   "execution_count": 63,
   "metadata": {},
   "outputs": [
    {
     "name": "stdout",
     "output_type": "stream",
     "text": [
      "['neg' 'pos' 'pos' ... 'neg' 'neg' 'neg']\n"
     ]
    }
   ],
   "source": [
    "# Predict on test set \n",
    "pred = mnb_model.predict(test_features)\n",
    "print(pred)"
   ]
  },
  {
   "cell_type": "code",
   "execution_count": 64,
   "metadata": {},
   "outputs": [
    {
     "name": "stdout",
     "output_type": "stream",
     "text": [
      "Accuracy: 0.833120\n"
     ]
    }
   ],
   "source": [
    "print('Accuracy: %f' % metrics.accuracy_score(pred,test_y))"
   ]
  },
  {
   "cell_type": "markdown",
   "metadata": {},
   "source": [
    "<span style=\"color:red\">**Tips:**</span>\n",
    "\n",
    "It doesn't matter if you change the order of `pred` and `test_y` passed into `accuracy_score` since the metrics is symmetric. **However**, it is extremely important that you pass them in the correct order when you need to calculate per-class metrics like f-score. "
   ]
  },
  {
   "cell_type": "code",
   "execution_count": 65,
   "metadata": {},
   "outputs": [
    {
     "name": "stdout",
     "output_type": "stream",
     "text": [
      "              precision    recall  f1-score   support\n",
      "\n",
      "         neg       0.81      0.87      0.84     12500\n",
      "         pos       0.86      0.80      0.83     12500\n",
      "\n",
      "   micro avg       0.83      0.83      0.83     25000\n",
      "   macro avg       0.83      0.83      0.83     25000\n",
      "weighted avg       0.83      0.83      0.83     25000\n",
      "\n"
     ]
    }
   ],
   "source": [
    "# Pass in as keyword arguments to make sure the order is correct \n",
    "print(\n",
    "    metrics.classification_report(y_true=test_y, y_pred = pred))"
   ]
  },
  {
   "cell_type": "code",
   "execution_count": 66,
   "metadata": {},
   "outputs": [
    {
     "name": "stdout",
     "output_type": "stream",
     "text": [
      "              precision    recall  f1-score   support\n",
      "\n",
      "     class 0       0.50      1.00      0.67         1\n",
      "     class 1       0.00      0.00      0.00         1\n",
      "     class 2       1.00      0.67      0.80         3\n",
      "\n",
      "   micro avg       0.60      0.60      0.60         5\n",
      "   macro avg       0.50      0.56      0.49         5\n",
      "weighted avg       0.70      0.60      0.61         5\n",
      "\n"
     ]
    }
   ],
   "source": [
    "# Example from skearln documentation \n",
    "y_true = [0,1,2,2,2]\n",
    "y_pred = [0,0,2,2,1]\n",
    "target_names = ['class 0', 'class 1', 'class 2']\n",
    "print(metrics.classification_report(y_true, y_pred, target_names = target_names))"
   ]
  },
  {
   "cell_type": "markdown",
   "metadata": {},
   "source": [
    "## calculate by yourself"
   ]
  },
  {
   "cell_type": "markdown",
   "metadata": {},
   "source": [
    "# Predict new text "
   ]
  },
  {
   "cell_type": "code",
   "execution_count": 70,
   "metadata": {},
   "outputs": [],
   "source": [
    "def predict_new(prep_func, # func for preprocessing \n",
    "                vec, # vectgorizer\n",
    "                model, # model\n",
    "                text): # text \n",
    "    prep_text = prep_func(text)\n",
    "    features = vec.transform([prep_text])\n",
    "    pred = model.predict(features)\n",
    "    return pred[0]"
   ]
  },
  {
   "cell_type": "code",
   "execution_count": 71,
   "metadata": {},
   "outputs": [],
   "source": [
    "from functools import partial\n",
    "predict_new_p1 = partial(predict_new, preprocessing, tf_vec, mnb_model)"
   ]
  },
  {
   "cell_type": "code",
   "execution_count": 72,
   "metadata": {},
   "outputs": [
    {
     "data": {
      "text/plain": [
       "'pos'"
      ]
     },
     "execution_count": 72,
     "metadata": {},
     "output_type": "execute_result"
    }
   ],
   "source": [
    "predict_new_p1('It looks nice')"
   ]
  },
  {
   "cell_type": "code",
   "execution_count": 73,
   "metadata": {},
   "outputs": [
    {
     "data": {
      "text/plain": [
       "'neg'"
      ]
     },
     "execution_count": 73,
     "metadata": {},
     "output_type": "execute_result"
    }
   ],
   "source": [
    "predict_new_p1('It looks terrible')"
   ]
  },
  {
   "cell_type": "markdown",
   "metadata": {},
   "source": [
    "# Tuning hyper parameters  "
   ]
  },
  {
   "cell_type": "code",
   "execution_count": 75,
   "metadata": {},
   "outputs": [],
   "source": [
    "def train_with_n_topwords(n: int, tfidf=False) -> tuple:\n",
    "    \"\"\"\n",
    "    Train and get the accuracy with different model strings \n",
    "    Args:\n",
    "        n: number of feature (top frequent words in the vocabulary)\n",
    "        tfidf; whether do tf-idf reweighting or not\n",
    "    Outputs: \n",
    "        tuple: (accuracy score, classifier, vectorizer)\n",
    "    \"\"\"\n",
    "    topwords = [word for word, _ in voca.most_common(n)]\n",
    "    \n",
    "    if tfidf:\n",
    "        vec = TfidfVectorizer(vocabulary = topwords)\n",
    "    else:\n",
    "        vec = CountVectorizer(vocabulary = topwords)\n",
    "        \n",
    "    # Generate feature vectors \n",
    "    train_features = vec.fit_transform(train_x)\n",
    "    test_features = vec.transform(test_x)\n",
    "    \n",
    "    # NB\n",
    "    mnb_model = MultinomialNB()\n",
    "    mnb_model.fit(train_features, train_y)\n",
    "    \n",
    "    # Test predict \n",
    "    pred = mnb_model.predict(test_features)\n",
    "    \n",
    "    return metrics.accuracy_score(pred, test_y), mnb_model, vec"
   ]
  },
  {
   "cell_type": "code",
   "execution_count": 76,
   "metadata": {},
   "outputs": [
    {
     "data": {
      "text/plain": [
       "(0.82496,\n",
       " MultinomialNB(alpha=1.0, class_prior=None, fit_prior=True),\n",
       " TfidfVectorizer(analyzer='word', binary=False, decode_error='strict',\n",
       "         dtype=<class 'numpy.float64'>, encoding='utf-8', input='content',\n",
       "         lowercase=True, max_df=1.0, max_features=None, min_df=1,\n",
       "         ngram_range=(1, 1), norm='l2', preprocessor=None, smooth_idf=True,\n",
       "         stop_words=None, strip_accents=None, sublinear_tf=False,\n",
       "         token_pattern='(?u)\\\\b\\\\w\\\\w+\\\\b', tokenizer=None, use_idf=True,\n",
       "         vocabulary=['film', 'movie', 'one', 'make', 'like', 'see', 'get', 'time', 'good', 'character', 'go', 'watch', 'even', 'would', 'think', 'story', 'really', 'well', 'show', 'look', 'much', 'say', 'end', 'know', 'people', 'bad', 'also', 'first', 'great', 'give', 'act', 'take', 'play', 'love', 'come', '..., 'none', 'note', 'hell', 'deliver', 'simple', 'ok', 'allow', 'class', 'david', 'convince', 'check']))"
      ]
     },
     "execution_count": 76,
     "metadata": {},
     "output_type": "execute_result"
    }
   ],
   "source": [
    "train_with_n_topwords(500, tfidf = True)"
   ]
  },
  {
   "cell_type": "code",
   "execution_count": 78,
   "metadata": {},
   "outputs": [
    {
     "data": {
      "application/vnd.jupyter.widget-view+json": {
       "model_id": "fb225a22f066473f93396bfd333b81b0",
       "version_major": 2,
       "version_minor": 0
      },
      "text/plain": [
       "HBox(children=(IntProgress(value=0, max=19), HTML(value='')))"
      ]
     },
     "metadata": {},
     "output_type": "display_data"
    },
    {
     "name": "stdout",
     "output_type": "stream",
     "text": [
      "\n"
     ]
    }
   ],
   "source": [
    "possible_n = [500*i for i in range(1, 20)]\n",
    "cnt_accuracies = []\n",
    "tfidf_accuracies = []\n",
    "\n",
    "for n in tqdm_notebook(possible_n):\n",
    "    cnt_accuracies.append(train_with_n_topwords(n)[0])\n",
    "    tfidf_accuracies.append(train_with_n_topwords(n, tfidf=True)[0])"
   ]
  },
  {
   "cell_type": "code",
   "execution_count": 79,
   "metadata": {},
   "outputs": [
    {
     "data": {
      "text/plain": [
       "[<matplotlib.lines.Line2D at 0x7ff3927daeb8>]"
      ]
     },
     "execution_count": 79,
     "metadata": {},
     "output_type": "execute_result"
    },
    {
     "data": {
      "image/png": "[encoded data removed]",
      "text/plain": [
       "<Figure size 432x288 with 1 Axes>"
      ]
     },
     "metadata": {
      "image/png": {
       "height": 250,
       "width": 386
      },
      "needs_background": "light"
     },
     "output_type": "display_data"
    }
   ],
   "source": [
    "import matplotlib.pyplot as plt\n",
    "%matplotlib inline\n",
    "%config InlineBackend.figure_format='retina'\n",
    "\n",
    "plt.plot(possible_n, cnt_accuracies, label='Word Count')\n",
    "plt.plot(possible_n, tfidf_accuracies, label='Tf-idf')"
   ]
  },
  {
   "cell_type": "markdown",
   "metadata": {},
   "source": [
    "# Save model"
   ]
  },
  {
   "cell_type": "code",
   "execution_count": 80,
   "metadata": {},
   "outputs": [],
   "source": [
    "_, model, vec = train_with_n_topwords(3000, tfidf= True)"
   ]
  },
  {
   "cell_type": "code",
   "execution_count": 81,
   "metadata": {},
   "outputs": [],
   "source": [
    "import pickle\n",
    "\n",
    "with open('tf_vec.pkl', 'wb') as fp:\n",
    "    pickle.dump(vec, fp)\n",
    "with open('mnb_model.pkl','wb') as fp:\n",
    "    pickle.dump(model, fp)"
   ]
  },
  {
   "cell_type": "code",
   "execution_count": null,
   "metadata": {},
   "outputs": [],
   "source": []
  }
 ],
 "metadata": {
  "kernelspec": {
   "display_name": "Python 3",
   "language": "python",
   "name": "python3"
  },
  "language_info": {
   "codemirror_mode": {
    "name": "ipython",
    "version": 3
   },
   "file_extension": ".py",
   "mimetype": "text/x-python",
   "name": "python",
   "nbconvert_exporter": "python",
   "pygments_lexer": "ipython3",
   "version": "3.6.7"
  }
 },
 "nbformat": 4,
 "nbformat_minor": 2
}
