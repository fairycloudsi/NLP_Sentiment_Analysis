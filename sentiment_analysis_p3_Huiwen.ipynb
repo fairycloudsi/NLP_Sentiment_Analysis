{
 "cells": [
  {
   "cell_type": "markdown",
   "metadata": {},
   "source": [
    "# Sentiment Analysis P3\n",
    "In this notebook, we will learn how to build a deep LSTM network and how to insert a fixed pre-trained embedding layer in Keras."
   ]
  },
  {
   "cell_type": "markdown",
   "metadata": {},
   "source": [
    "## Still Emoji"
   ]
  },
  {
   "cell_type": "code",
   "execution_count": 1,
   "metadata": {},
   "outputs": [],
   "source": [
    "# import \n",
    "import numpy as np\n",
    "import utils\n",
    "from tensorflow.keras.models import Model\n",
    "from tensorflow.keras.layers import Dense, Input, Dropout, LSTM, Activation, Embedding\n",
    "from tensorflow.keras.preprocessing import sequence \n",
    "\n",
    "import matplotlib.pyplot as plt\n",
    "%matplotlib inline\n",
    "%config InlineBackend.figure_format = 'retina'\n",
    "\n",
    "np.random.seed(1)"
   ]
  },
  {
   "cell_type": "code",
   "execution_count": 2,
   "metadata": {},
   "outputs": [],
   "source": [
    "train_x, test_x, train_y, test_y = utils.load_emoji()"
   ]
  },
  {
   "cell_type": "markdown",
   "metadata": {},
   "source": [
    "**Load pretrained word embeddings**\n",
    "\n",
    "2 disctinoaries are loaded:\n",
    "\n",
    "- `word_to_index`: map a word to its index in the vocabulary\n",
    "    - Example: `'word' -> 1234`\n",
    "- `word_to_vec_map`: map a word to its embedding \n",
    "    - Example: `'word' -> [0.1, 0.2, ..., 0.45]`\n",
    "\n",
    "When adding a custon embedding layer in Keras, we can only load the pretrained embedding as a big matrix instead of a dictionary, An index will help us locate the entry for a given word."
   ]
  },
  {
   "cell_type": "markdown",
   "metadata": {},
   "source": [
    "## Word Embedding & One Hot"
   ]
  },
  {
   "cell_type": "code",
   "execution_count": 3,
   "metadata": {},
   "outputs": [
    {
     "name": "stdout",
     "output_type": "stream",
     "text": [
      "data already available, skip downloading.\n",
      "loading glove... this may take a while...\n",
      "glove loaded successfully.\n"
     ]
    }
   ],
   "source": [
    "word_to_index, word_to_vec_map = utils.load_glove_vecs()"
   ]
  },
  {
   "cell_type": "code",
   "execution_count": 4,
   "metadata": {},
   "outputs": [],
   "source": [
    "utils.sentences_to_indices?"
   ]
  },
  {
   "cell_type": "code",
   "execution_count": 5,
   "metadata": {},
   "outputs": [
    {
     "data": {
      "text/plain": [
       "array([[185457., 222471., 193716.,      0.,      0.],\n",
       "       [185457., 174339., 193716.,      0.,      0.]])"
      ]
     },
     "execution_count": 5,
     "metadata": {},
     "output_type": "execute_result"
    }
   ],
   "source": [
    "# Convert word to the index in vocabulary\n",
    "utils.sentences_to_indices(\n",
    "    np.array([\"I like it\", \"I hate it\"]),  # array of test sentences \n",
    "    word_to_index,\n",
    "    max_len = 5)"
   ]
  },
  {
   "cell_type": "code",
   "execution_count": 6,
   "metadata": {},
   "outputs": [
    {
     "name": "stdout",
     "output_type": "stream",
     "text": [
      "max number of words in a sentence:  10\n"
     ]
    }
   ],
   "source": [
    "maxlen = max([len(x.split()) for x in train_x])\n",
    "print('max number of words in a sentence: ', maxlen)"
   ]
  },
  {
   "cell_type": "code",
   "execution_count": 7,
   "metadata": {},
   "outputs": [],
   "source": [
    "# Convert training/testing features into index list \n",
    "train_x = utils.sentences_to_indices(train_x, word_to_index, maxlen)\n",
    "test_x = utils.sentences_to_indices(test_x, word_to_index, maxlen)\n",
    "\n",
    "# Convert training/testing labels into one hot array\n",
    "train_y = utils.convert_to_one_hot(train_y, C = 5)\n",
    "test_y = utils.convert_to_one_hot(test_y, C = 5)"
   ]
  },
  {
   "cell_type": "code",
   "execution_count": 8,
   "metadata": {},
   "outputs": [],
   "source": [
    "# Check to make sure the shape looks good\n",
    "assert train_x.shape == (132, maxlen)\n",
    "assert train_y.shape == (132, 5)"
   ]
  },
  {
   "cell_type": "markdown",
   "metadata": {},
   "source": [
    "## Embedding Layer\n",
    "We need to build a embedding matrix where each row repressent a word vector. "
   ]
  },
  {
   "cell_type": "code",
   "execution_count": 10,
   "metadata": {},
   "outputs": [],
   "source": [
    "def pretrained_embedding_layer(word_to_index, word_to_vec_map):\n",
    "    \"\"\"\n",
    "    Build and return a Keras Embedding Layer given word_to_vec mapping \n",
    "    \n",
    "    Args:\n",
    "        word_to_index (dict[str->int]): map from a word to its index in vocabulary\n",
    "        word_to_vec_map (dict[str->np.ndarray]): map from a word to a vector with shape (N,) where N is the length of a word vector (50 in our case)\n",
    "    Return:\n",
    "        Keras.layers.Embedding: Embedding layer\n",
    "    \"\"\"\n",
    "    # Keras requires vocab length start from index 1\n",
    "    vocab_len = len(word_to_index) + 1\n",
    "    emb_dim = list(word_to_vec_map.values())[0].shape[0]\n",
    "    \n",
    "    # Initialize the embedding matrix as a numpy array of zeros of shape\n",
    "    # (vocab_len, dimensions of word vectors = emb_dim)\n",
    "    emb_matrix = np.zeros((vocab_len, emb_dim))\n",
    "    \n",
    "    # Set each row \"index\" of the embedding matrix to be the word vector \n",
    "    # representation of the \"index\"th word of the vocabulary\n",
    "    for word, index in word_to_index.items():\n",
    "        emb_matrix[index, :] = word_to_vec_map[word]\n",
    "        \n",
    "    # Define Keras embedding layer with the correct output/input sizes, \n",
    "    # make it trainable. Use Embedding(...). Make sure to set trainable= False\n",
    "    return Embedding(\n",
    "        input_dim = vocab_len,\n",
    "        output_dim = emb_dim,\n",
    "        trainable = False, # Indicating this is a pre-trained embedding\n",
    "        weights=[emb_matrix])"
   ]
  },
  {
   "cell_type": "markdown",
   "metadata": {},
   "source": [
    "## Build the Model"
   ]
  },
  {
   "cell_type": "code",
   "execution_count": 13,
   "metadata": {},
   "outputs": [],
   "source": [
    "def build_emoji_model(input_dim, word_to_index, word_to_vec_map):\n",
    "    \"\"\"\n",
    "    Build and return the Keras model\n",
    "    \n",
    "    Args: \n",
    "        input_dim: The dim of input layer\n",
    "        word_to_vec_map(dict[str -> np.ndarray]): map from a word to a \n",
    "        vector with shape (N,) where N is the lenght of a word vector \n",
    "        (50 in our case)\n",
    "        word_to_index (dict[str->int]): map from a word to its index in\n",
    "        vocabulary\n",
    "        \n",
    "    Returns:\n",
    "        Keras.models.Model: 2-layer LSTM model\n",
    "    \"\"\"\n",
    "    # Input Layer\n",
    "    sentence_indices = Input(shape=(input_dim,), dtype = 'int32')\n",
    "    # Embedding Layer\n",
    "    embedding_layer = pretrained_embedding_layer(word_to_index, word_to_vec_map)\n",
    "    embeddings = embedding_layer(sentence_indices)\n",
    "    \n",
    "    # 2-layer LSTM\n",
    "    X = LSTM(128, return_sequences = True, recurrent_dropout=0.5)(embeddings) # N->N RNN\n",
    "    X = Dropout(rate = 0.8)(X)\n",
    "    X = LSTM(128, recurrent_dropout=0.5)(X) # N -> 1 RNN\n",
    "    X = Dropout(rate = 0.8)(X)\n",
    "    X = Dense(5, activation='softmax')(X)\n",
    "    \n",
    "    # Create and return model\n",
    "    model = Model(inputs = sentence_indices, outputs = X)\n",
    "    return model "
   ]
  },
  {
   "cell_type": "code",
   "execution_count": 14,
   "metadata": {},
   "outputs": [
    {
     "name": "stdout",
     "output_type": "stream",
     "text": [
      "WARNING:tensorflow:From /media/sophia/DATA_1/nlp_proj/lib/python3.6/site-packages/tensorflow/python/ops/resource_variable_ops.py:435: colocate_with (from tensorflow.python.framework.ops) is deprecated and will be removed in a future version.\n",
      "Instructions for updating:\n",
      "Colocations handled automatically by placer.\n",
      "WARNING:tensorflow:From /media/sophia/DATA_1/nlp_proj/lib/python3.6/site-packages/tensorflow/python/keras/backend.py:4010: calling dropout (from tensorflow.python.ops.nn_ops) with keep_prob is deprecated and will be removed in a future version.\n",
      "Instructions for updating:\n",
      "Please use `rate` instead of `keep_prob`. Rate should be set to `rate = 1 - keep_prob`.\n",
      "_________________________________________________________________\n",
      "Layer (type)                 Output Shape              Param #   \n",
      "=================================================================\n",
      "input_1 (InputLayer)         (None, 10)                0         \n",
      "_________________________________________________________________\n",
      "embedding (Embedding)        (None, 10, 50)            20000050  \n",
      "_________________________________________________________________\n",
      "lstm (LSTM)                  (None, 10, 128)           91648     \n",
      "_________________________________________________________________\n",
      "dropout (Dropout)            (None, 10, 128)           0         \n",
      "_________________________________________________________________\n",
      "lstm_1 (LSTM)                (None, 128)               131584    \n",
      "_________________________________________________________________\n",
      "dropout_1 (Dropout)          (None, 128)               0         \n",
      "_________________________________________________________________\n",
      "dense (Dense)                (None, 5)                 645       \n",
      "=================================================================\n",
      "Total params: 20,223,927\n",
      "Trainable params: 223,877\n",
      "Non-trainable params: 20,000,050\n",
      "_________________________________________________________________\n"
     ]
    }
   ],
   "source": [
    "emoji_model = build_emoji_model(\n",
    "    maxlen,\n",
    "    word_to_index,\n",
    "    word_to_vec_map)\n",
    "\n",
    "emoji_model.summary()"
   ]
  },
  {
   "cell_type": "code",
   "execution_count": 16,
   "metadata": {},
   "outputs": [],
   "source": [
    "emoji_model.compile(\n",
    "    loss = 'categorical_crossentropy',\n",
    "    optimizer = 'adam',\n",
    "    metrics = ['accuracy'])"
   ]
  },
  {
   "cell_type": "code",
   "execution_count": 18,
   "metadata": {},
   "outputs": [
    {
     "name": "stdout",
     "output_type": "stream",
     "text": [
      "Train on 132 samples, validate on 56 samples\n",
      "WARNING:tensorflow:From /media/sophia/DATA_1/nlp_proj/lib/python3.6/site-packages/tensorflow/python/ops/math_ops.py:3066: to_int32 (from tensorflow.python.ops.math_ops) is deprecated and will be removed in a future version.\n",
      "Instructions for updating:\n",
      "Use tf.cast instead.\n",
      "Epoch 1/100\n",
      "132/132 [==============================] - 1s 7ms/sample - loss: 1.6337 - acc: 0.1818 - val_loss: 1.5672 - val_acc: 0.3929\n",
      "Epoch 2/100\n",
      "132/132 [==============================] - 0s 595us/sample - loss: 1.5636 - acc: 0.2803 - val_loss: 1.5423 - val_acc: 0.3929\n",
      "Epoch 3/100\n",
      "132/132 [==============================] - 0s 560us/sample - loss: 1.5484 - acc: 0.2727 - val_loss: 1.5256 - val_acc: 0.3571\n",
      "Epoch 4/100\n",
      "132/132 [==============================] - 0s 623us/sample - loss: 1.5079 - acc: 0.3939 - val_loss: 1.5084 - val_acc: 0.4107\n",
      "Epoch 5/100\n",
      "132/132 [==============================] - 0s 647us/sample - loss: 1.5026 - acc: 0.3333 - val_loss: 1.4883 - val_acc: 0.4286\n",
      "Epoch 6/100\n",
      "132/132 [==============================] - 0s 647us/sample - loss: 1.4786 - acc: 0.3409 - val_loss: 1.4658 - val_acc: 0.4464\n",
      "Epoch 7/100\n",
      "132/132 [==============================] - 0s 646us/sample - loss: 1.4864 - acc: 0.3485 - val_loss: 1.4455 - val_acc: 0.4464\n",
      "Epoch 8/100\n",
      "132/132 [==============================] - 0s 637us/sample - loss: 1.4428 - acc: 0.3788 - val_loss: 1.4266 - val_acc: 0.5000\n",
      "Epoch 9/100\n",
      "132/132 [==============================] - 0s 641us/sample - loss: 1.4180 - acc: 0.3864 - val_loss: 1.3940 - val_acc: 0.4821\n",
      "Epoch 10/100\n",
      "132/132 [==============================] - 0s 651us/sample - loss: 1.4039 - acc: 0.4394 - val_loss: 1.3481 - val_acc: 0.4821\n",
      "Epoch 11/100\n",
      "132/132 [==============================] - 0s 689us/sample - loss: 1.3201 - acc: 0.4545 - val_loss: 1.3057 - val_acc: 0.5000\n",
      "Epoch 12/100\n",
      "132/132 [==============================] - 0s 651us/sample - loss: 1.2694 - acc: 0.4848 - val_loss: 1.2546 - val_acc: 0.5714\n",
      "Epoch 13/100\n",
      "132/132 [==============================] - 0s 731us/sample - loss: 1.2464 - acc: 0.5379 - val_loss: 1.2070 - val_acc: 0.5893\n",
      "Epoch 14/100\n",
      "132/132 [==============================] - 0s 750us/sample - loss: 1.1491 - acc: 0.5682 - val_loss: 1.1584 - val_acc: 0.6429\n",
      "Epoch 15/100\n",
      "132/132 [==============================] - 0s 670us/sample - loss: 1.1172 - acc: 0.5530 - val_loss: 1.0774 - val_acc: 0.6429\n",
      "Epoch 16/100\n",
      "132/132 [==============================] - 0s 698us/sample - loss: 1.1411 - acc: 0.5455 - val_loss: 1.0227 - val_acc: 0.6250\n",
      "Epoch 17/100\n",
      "132/132 [==============================] - 0s 699us/sample - loss: 1.0099 - acc: 0.6212 - val_loss: 0.9663 - val_acc: 0.6607\n",
      "Epoch 18/100\n",
      "132/132 [==============================] - 0s 638us/sample - loss: 0.9685 - acc: 0.5606 - val_loss: 0.9274 - val_acc: 0.6071\n",
      "Epoch 19/100\n",
      "132/132 [==============================] - 0s 617us/sample - loss: 0.9929 - acc: 0.5833 - val_loss: 0.8821 - val_acc: 0.6964\n",
      "Epoch 20/100\n",
      "132/132 [==============================] - 0s 622us/sample - loss: 0.8608 - acc: 0.6894 - val_loss: 0.9073 - val_acc: 0.6250\n",
      "Epoch 21/100\n",
      "132/132 [==============================] - 0s 614us/sample - loss: 0.8720 - acc: 0.6212 - val_loss: 0.8487 - val_acc: 0.6964\n",
      "Epoch 22/100\n",
      "132/132 [==============================] - 0s 616us/sample - loss: 0.9072 - acc: 0.6439 - val_loss: 0.8412 - val_acc: 0.6964\n",
      "Epoch 23/100\n",
      "132/132 [==============================] - 0s 614us/sample - loss: 0.8016 - acc: 0.7576 - val_loss: 0.8288 - val_acc: 0.6964\n",
      "Epoch 24/100\n",
      "132/132 [==============================] - 0s 725us/sample - loss: 0.8060 - acc: 0.7500 - val_loss: 0.7147 - val_acc: 0.7500\n",
      "Epoch 25/100\n",
      "132/132 [==============================] - 0s 780us/sample - loss: 0.7765 - acc: 0.7424 - val_loss: 0.7044 - val_acc: 0.7143\n",
      "Epoch 26/100\n",
      "132/132 [==============================] - 0s 735us/sample - loss: 0.6850 - acc: 0.7348 - val_loss: 0.7045 - val_acc: 0.6607\n",
      "Epoch 27/100\n",
      "132/132 [==============================] - 0s 619us/sample - loss: 0.7261 - acc: 0.7424 - val_loss: 0.7421 - val_acc: 0.7321\n",
      "Epoch 28/100\n",
      "132/132 [==============================] - 0s 627us/sample - loss: 0.7503 - acc: 0.7424 - val_loss: 0.6117 - val_acc: 0.7857\n",
      "Epoch 29/100\n",
      "132/132 [==============================] - 0s 622us/sample - loss: 0.6691 - acc: 0.7803 - val_loss: 0.5879 - val_acc: 0.8393\n",
      "Epoch 30/100\n",
      "132/132 [==============================] - 0s 635us/sample - loss: 0.7021 - acc: 0.7576 - val_loss: 0.5424 - val_acc: 0.8571\n",
      "Epoch 31/100\n",
      "132/132 [==============================] - 0s 637us/sample - loss: 0.5889 - acc: 0.7803 - val_loss: 0.5543 - val_acc: 0.7500\n",
      "Epoch 32/100\n",
      "132/132 [==============================] - 0s 614us/sample - loss: 0.6608 - acc: 0.7576 - val_loss: 0.4958 - val_acc: 0.8214\n",
      "Epoch 33/100\n",
      "132/132 [==============================] - 0s 603us/sample - loss: 0.5173 - acc: 0.8409 - val_loss: 0.4784 - val_acc: 0.8393\n",
      "Epoch 34/100\n",
      "132/132 [==============================] - 0s 599us/sample - loss: 0.5403 - acc: 0.8182 - val_loss: 0.5060 - val_acc: 0.8393\n",
      "Epoch 35/100\n",
      "132/132 [==============================] - 0s 594us/sample - loss: 0.5804 - acc: 0.7955 - val_loss: 0.4706 - val_acc: 0.8036\n",
      "Epoch 36/100\n",
      "132/132 [==============================] - 0s 579us/sample - loss: 0.5102 - acc: 0.8030 - val_loss: 0.4203 - val_acc: 0.8750\n",
      "Epoch 37/100\n",
      "132/132 [==============================] - 0s 612us/sample - loss: 0.4566 - acc: 0.8712 - val_loss: 0.5193 - val_acc: 0.8036\n",
      "Epoch 38/100\n",
      "132/132 [==============================] - 0s 591us/sample - loss: 0.4583 - acc: 0.8333 - val_loss: 0.5387 - val_acc: 0.7857\n",
      "Epoch 39/100\n",
      "132/132 [==============================] - 0s 586us/sample - loss: 0.4931 - acc: 0.8182 - val_loss: 0.4272 - val_acc: 0.7857\n",
      "Epoch 40/100\n",
      "132/132 [==============================] - 0s 588us/sample - loss: 0.3995 - acc: 0.8636 - val_loss: 0.3262 - val_acc: 0.8929\n",
      "Epoch 41/100\n",
      "132/132 [==============================] - 0s 580us/sample - loss: 0.4740 - acc: 0.8182 - val_loss: 0.3365 - val_acc: 0.9107\n",
      "Epoch 42/100\n",
      "132/132 [==============================] - 0s 581us/sample - loss: 0.4215 - acc: 0.8636 - val_loss: 0.5657 - val_acc: 0.8036\n",
      "Epoch 43/100\n",
      "132/132 [==============================] - 0s 642us/sample - loss: 0.4369 - acc: 0.8636 - val_loss: 0.4831 - val_acc: 0.8214\n",
      "Epoch 44/100\n",
      "132/132 [==============================] - 0s 651us/sample - loss: 0.3672 - acc: 0.8864 - val_loss: 0.3952 - val_acc: 0.8571\n",
      "Epoch 45/100\n",
      "132/132 [==============================] - 0s 675us/sample - loss: 0.3487 - acc: 0.8712 - val_loss: 0.3951 - val_acc: 0.8036\n",
      "Epoch 46/100\n",
      "132/132 [==============================] - 0s 622us/sample - loss: 0.3817 - acc: 0.8712 - val_loss: 0.3631 - val_acc: 0.8929\n",
      "Epoch 47/100\n",
      "132/132 [==============================] - 0s 616us/sample - loss: 0.3539 - acc: 0.8939 - val_loss: 0.4167 - val_acc: 0.8393\n",
      "Epoch 48/100\n",
      "132/132 [==============================] - 0s 582us/sample - loss: 0.3740 - acc: 0.8712 - val_loss: 0.3357 - val_acc: 0.8571\n",
      "Epoch 49/100\n",
      "132/132 [==============================] - 0s 591us/sample - loss: 0.3007 - acc: 0.9015 - val_loss: 0.3133 - val_acc: 0.8750\n",
      "Epoch 50/100\n",
      "132/132 [==============================] - 0s 580us/sample - loss: 0.3432 - acc: 0.8561 - val_loss: 0.3224 - val_acc: 0.8750\n",
      "Epoch 51/100\n",
      "132/132 [==============================] - 0s 589us/sample - loss: 0.2924 - acc: 0.9318 - val_loss: 0.4029 - val_acc: 0.8571\n",
      "Epoch 52/100\n",
      "132/132 [==============================] - 0s 645us/sample - loss: 0.2470 - acc: 0.9091 - val_loss: 0.4337 - val_acc: 0.8571\n",
      "Epoch 53/100\n",
      "132/132 [==============================] - 0s 640us/sample - loss: 0.3067 - acc: 0.9091 - val_loss: 0.4123 - val_acc: 0.8571\n",
      "Epoch 54/100\n",
      "132/132 [==============================] - 0s 649us/sample - loss: 0.3424 - acc: 0.8939 - val_loss: 0.3670 - val_acc: 0.8571\n",
      "Epoch 55/100\n",
      "132/132 [==============================] - 0s 642us/sample - loss: 0.2245 - acc: 0.9242 - val_loss: 0.4449 - val_acc: 0.8393\n",
      "Epoch 56/100\n",
      "132/132 [==============================] - 0s 604us/sample - loss: 0.3391 - acc: 0.9015 - val_loss: 0.7023 - val_acc: 0.7500\n",
      "Epoch 57/100\n",
      "132/132 [==============================] - 0s 597us/sample - loss: 0.3340 - acc: 0.8864 - val_loss: 0.5704 - val_acc: 0.7857\n",
      "Epoch 58/100\n"
     ]
    },
    {
     "name": "stdout",
     "output_type": "stream",
     "text": [
      "132/132 [==============================] - 0s 605us/sample - loss: 0.3229 - acc: 0.8939 - val_loss: 0.2979 - val_acc: 0.8393\n",
      "Epoch 59/100\n",
      "132/132 [==============================] - 0s 647us/sample - loss: 0.3083 - acc: 0.9015 - val_loss: 0.2380 - val_acc: 0.9107\n",
      "Epoch 60/100\n",
      "132/132 [==============================] - 0s 710us/sample - loss: 0.2669 - acc: 0.9167 - val_loss: 0.3453 - val_acc: 0.8571\n",
      "Epoch 61/100\n",
      "132/132 [==============================] - 0s 629us/sample - loss: 0.3162 - acc: 0.8864 - val_loss: 0.5135 - val_acc: 0.8214\n",
      "Epoch 62/100\n",
      "132/132 [==============================] - 0s 589us/sample - loss: 0.3509 - acc: 0.8712 - val_loss: 0.5266 - val_acc: 0.8214\n",
      "Epoch 63/100\n",
      "132/132 [==============================] - 0s 584us/sample - loss: 0.4146 - acc: 0.8788 - val_loss: 0.3703 - val_acc: 0.8393\n",
      "Epoch 64/100\n",
      "132/132 [==============================] - 0s 556us/sample - loss: 0.1968 - acc: 0.9394 - val_loss: 0.2997 - val_acc: 0.8393\n",
      "Epoch 65/100\n",
      "132/132 [==============================] - 0s 574us/sample - loss: 0.2060 - acc: 0.9394 - val_loss: 0.3651 - val_acc: 0.8571\n",
      "Epoch 66/100\n",
      "132/132 [==============================] - 0s 587us/sample - loss: 0.2015 - acc: 0.9470 - val_loss: 0.4313 - val_acc: 0.8393\n",
      "Epoch 67/100\n",
      "132/132 [==============================] - 0s 646us/sample - loss: 0.2122 - acc: 0.9394 - val_loss: 0.3529 - val_acc: 0.8750\n",
      "Epoch 68/100\n",
      "132/132 [==============================] - 0s 734us/sample - loss: 0.2106 - acc: 0.9470 - val_loss: 0.2334 - val_acc: 0.9107\n",
      "Epoch 69/100\n",
      "132/132 [==============================] - 0s 633us/sample - loss: 0.2339 - acc: 0.9318 - val_loss: 0.2170 - val_acc: 0.9107\n",
      "Epoch 70/100\n",
      "132/132 [==============================] - 0s 566us/sample - loss: 0.2202 - acc: 0.9621 - val_loss: 0.2313 - val_acc: 0.9464\n",
      "Epoch 71/100\n",
      "132/132 [==============================] - 0s 614us/sample - loss: 0.1767 - acc: 0.9470 - val_loss: 0.2524 - val_acc: 0.9107\n",
      "Epoch 72/100\n",
      "132/132 [==============================] - 0s 583us/sample - loss: 0.1650 - acc: 0.9394 - val_loss: 0.2861 - val_acc: 0.8750\n",
      "Epoch 73/100\n",
      "132/132 [==============================] - 0s 623us/sample - loss: 0.1823 - acc: 0.9470 - val_loss: 0.3269 - val_acc: 0.8750\n",
      "Epoch 74/100\n",
      "132/132 [==============================] - 0s 726us/sample - loss: 0.2297 - acc: 0.9621 - val_loss: 0.3764 - val_acc: 0.8929\n",
      "Epoch 75/100\n",
      "132/132 [==============================] - 0s 644us/sample - loss: 0.2181 - acc: 0.9394 - val_loss: 0.7404 - val_acc: 0.7500\n",
      "Epoch 76/100\n",
      "132/132 [==============================] - 0s 598us/sample - loss: 0.3742 - acc: 0.8712 - val_loss: 0.3099 - val_acc: 0.8929\n",
      "Epoch 77/100\n",
      "132/132 [==============================] - 0s 612us/sample - loss: 0.2568 - acc: 0.9167 - val_loss: 0.2000 - val_acc: 0.9286\n",
      "Epoch 78/100\n",
      "132/132 [==============================] - 0s 573us/sample - loss: 0.3355 - acc: 0.8788 - val_loss: 0.1816 - val_acc: 0.9464\n",
      "Epoch 79/100\n",
      "132/132 [==============================] - 0s 601us/sample - loss: 0.2152 - acc: 0.9394 - val_loss: 0.4050 - val_acc: 0.7857\n",
      "Epoch 80/100\n",
      "132/132 [==============================] - 0s 659us/sample - loss: 0.2348 - acc: 0.9242 - val_loss: 0.5120 - val_acc: 0.7679\n",
      "Epoch 81/100\n",
      "132/132 [==============================] - 0s 679us/sample - loss: 0.2545 - acc: 0.9394 - val_loss: 0.3175 - val_acc: 0.9107\n",
      "Epoch 82/100\n",
      "132/132 [==============================] - 0s 643us/sample - loss: 0.1542 - acc: 0.9545 - val_loss: 0.1803 - val_acc: 0.9286\n",
      "Epoch 83/100\n",
      "132/132 [==============================] - 0s 636us/sample - loss: 0.1909 - acc: 0.9470 - val_loss: 0.1954 - val_acc: 0.9286\n",
      "Epoch 84/100\n",
      "132/132 [==============================] - 0s 613us/sample - loss: 0.1657 - acc: 0.9470 - val_loss: 0.3310 - val_acc: 0.8929\n",
      "Epoch 85/100\n",
      "132/132 [==============================] - 0s 597us/sample - loss: 0.1327 - acc: 0.9545 - val_loss: 0.3771 - val_acc: 0.9107\n",
      "Epoch 86/100\n",
      "132/132 [==============================] - 0s 592us/sample - loss: 0.2036 - acc: 0.9621 - val_loss: 0.4562 - val_acc: 0.8214\n",
      "Epoch 87/100\n",
      "132/132 [==============================] - 0s 606us/sample - loss: 0.1870 - acc: 0.9394 - val_loss: 0.3238 - val_acc: 0.8750\n",
      "Epoch 88/100\n",
      "132/132 [==============================] - 0s 641us/sample - loss: 0.2017 - acc: 0.9470 - val_loss: 0.1901 - val_acc: 0.9286\n",
      "Epoch 89/100\n",
      "132/132 [==============================] - 0s 687us/sample - loss: 0.1797 - acc: 0.9394 - val_loss: 0.2629 - val_acc: 0.9107\n",
      "Epoch 90/100\n",
      "132/132 [==============================] - 0s 663us/sample - loss: 0.1336 - acc: 0.9470 - val_loss: 0.3174 - val_acc: 0.8929\n",
      "Epoch 91/100\n",
      "132/132 [==============================] - 0s 626us/sample - loss: 0.0932 - acc: 0.9848 - val_loss: 0.3944 - val_acc: 0.8571\n",
      "Epoch 92/100\n",
      "132/132 [==============================] - 0s 656us/sample - loss: 0.0897 - acc: 0.9697 - val_loss: 0.5128 - val_acc: 0.8571\n",
      "Epoch 93/100\n",
      "132/132 [==============================] - 0s 635us/sample - loss: 0.1636 - acc: 0.9545 - val_loss: 0.3705 - val_acc: 0.8929\n",
      "Epoch 94/100\n",
      "132/132 [==============================] - 0s 585us/sample - loss: 0.1115 - acc: 0.9773 - val_loss: 0.2340 - val_acc: 0.9286\n",
      "Epoch 95/100\n",
      "132/132 [==============================] - 0s 582us/sample - loss: 0.1095 - acc: 0.9848 - val_loss: 0.2156 - val_acc: 0.9286\n",
      "Epoch 96/100\n",
      "132/132 [==============================] - 0s 589us/sample - loss: 0.1625 - acc: 0.9621 - val_loss: 0.1970 - val_acc: 0.9286\n",
      "Epoch 97/100\n",
      "132/132 [==============================] - 0s 661us/sample - loss: 0.1557 - acc: 0.9545 - val_loss: 0.3805 - val_acc: 0.8929\n",
      "Epoch 98/100\n",
      "132/132 [==============================] - 0s 686us/sample - loss: 0.1571 - acc: 0.9394 - val_loss: 0.6103 - val_acc: 0.8393\n",
      "Epoch 99/100\n",
      "132/132 [==============================] - 0s 628us/sample - loss: 0.1758 - acc: 0.9545 - val_loss: 0.7103 - val_acc: 0.8036\n",
      "Epoch 100/100\n",
      "132/132 [==============================] - 0s 628us/sample - loss: 0.1955 - acc: 0.9394 - val_loss: 0.5516 - val_acc: 0.8393\n"
     ]
    }
   ],
   "source": [
    "history = emoji_model.fit(\n",
    "    train_x,\n",
    "    train_y,\n",
    "    epochs = 100,\n",
    "    shuffle = True,\n",
    "    validation_data = [test_x, test_y]\n",
    ")"
   ]
  },
  {
   "cell_type": "code",
   "execution_count": 19,
   "metadata": {},
   "outputs": [
    {
     "data": {
      "image/png": "[encoded data removed]",
      "text/plain": [
       "<Figure size 432x288 with 1 Axes>"
      ]
     },
     "metadata": {
      "image/png": {
       "height": 250,
       "width": 373
      },
      "needs_background": "light"
     },
     "output_type": "display_data"
    }
   ],
   "source": [
    "utils.plot_history(history, ['loss', 'val_loss'])"
   ]
  },
  {
   "cell_type": "code",
   "execution_count": 20,
   "metadata": {},
   "outputs": [
    {
     "data": {
      "image/png": "[encoded data removed]",
      "text/plain": [
       "<Figure size 432x288 with 1 Axes>"
      ]
     },
     "metadata": {
      "image/png": {
       "height": 250,
       "width": 373
      },
      "needs_background": "light"
     },
     "output_type": "display_data"
    }
   ],
   "source": [
    "utils.plot_history(history, ['acc', 'val_acc'])"
   ]
  },
  {
   "cell_type": "code",
   "execution_count": 21,
   "metadata": {},
   "outputs": [
    {
     "name": "stdout",
     "output_type": "stream",
     "text": [
      "132/132 [==============================] - 0s 127us/sample - loss: 0.0556 - acc: 0.9773\n",
      "56/56 [==============================] - 0s 124us/sample - loss: 0.5516 - acc: 0.8393\n"
     ]
    },
    {
     "data": {
      "text/plain": [
       "[0.5516404466969627, 0.83928573]"
      ]
     },
     "execution_count": 21,
     "metadata": {},
     "output_type": "execute_result"
    }
   ],
   "source": [
    "emoji_model.evaluate(train_x, train_y)\n",
    "emoji_model.evaluate(test_x, test_y)"
   ]
  },
  {
   "cell_type": "markdown",
   "metadata": {},
   "source": [
    "## Save and Load Models"
   ]
  },
  {
   "cell_type": "code",
   "execution_count": 22,
   "metadata": {},
   "outputs": [],
   "source": [
    "# import \n",
    "import h5py"
   ]
  },
  {
   "cell_type": "markdown",
   "metadata": {},
   "source": [
    "Two parts need to be saved inorder to use the model in prod:\n",
    "1. Neural Network Structure \n",
    "2. Trained Weights (Matrix)\n",
    "We will save them separately. This makes it easy to manage multiple versions of weights and you can always choose which version to go for production."
   ]
  },
  {
   "cell_type": "code",
   "execution_count": 23,
   "metadata": {},
   "outputs": [],
   "source": [
    "import os\n",
    "\n",
    "model_root = 'resources/emoji_model'\n",
    "os.makedirs(model_root, exist_ok = True)"
   ]
  },
  {
   "cell_type": "code",
   "execution_count": 24,
   "metadata": {},
   "outputs": [],
   "source": [
    "# Save model structure as json\n",
    "with open(os.path.join(model_root, \"network.json\"), \"w\") as fp:\n",
    "    fp.write(emoji_model.to_json())\n",
    "    \n",
    "# Save model weights \n",
    "emoji_model.save_weights(os.path.join(model_root, \"weights.h5\"))"
   ]
  },
  {
   "cell_type": "markdown",
   "metadata": {},
   "source": [
    "Download and load a pretrained model"
   ]
  },
  {
   "cell_type": "code",
   "execution_count": 25,
   "metadata": {},
   "outputs": [
    {
     "name": "stdout",
     "output_type": "stream",
     "text": [
      "start downloading...\n",
      "start extracting compressed files...\n",
      "data files are now available at resources/emoji_model_best\n"
     ]
    }
   ],
   "source": [
    "network_path, weights_path = utils.download_best_emoji_model()"
   ]
  },
  {
   "cell_type": "code",
   "execution_count": 28,
   "metadata": {},
   "outputs": [],
   "source": [
    "from tensorflow.keras.models import model_from_json\n",
    "\n",
    "# Load model structure \n",
    "with open(network_path, \"r\") as fp:\n",
    "    emoji_model_best = model_from_json(fp.read())\n",
    "    \n",
    "# Load model weights \n",
    "emoji_model_best.load_weights(weights_path)"
   ]
  },
  {
   "cell_type": "code",
   "execution_count": 29,
   "metadata": {},
   "outputs": [],
   "source": [
    "emoji_model_best.compile(\n",
    "    loss='binary_crossentropy',\n",
    "    optimizer='adam',\n",
    "    metrics=['accuracy'])"
   ]
  },
  {
   "cell_type": "code",
   "execution_count": 30,
   "metadata": {},
   "outputs": [
    {
     "name": "stdout",
     "output_type": "stream",
     "text": [
      "132/132 [==============================] - 0s 1ms/sample - loss: 1.6893e-04 - acc: 1.0000\n",
      "56/56 [==============================] - 0s 135us/sample - loss: 0.2815 - acc: 0.9286\n"
     ]
    },
    {
     "data": {
      "text/plain": [
       "[0.2815132737159729, 0.9285714]"
      ]
     },
     "execution_count": 30,
     "metadata": {},
     "output_type": "execute_result"
    }
   ],
   "source": [
    "emoji_model_best.evaluate(train_x, train_y)\n",
    "emoji_model_best.evaluate(test_x, test_y)"
   ]
  },
  {
   "cell_type": "code",
   "execution_count": 33,
   "metadata": {},
   "outputs": [],
   "source": [
    "def predict(text):\n",
    "    x = utils.sentences_to_indices(\n",
    "        np.array([text]),\n",
    "        word_to_index,\n",
    "        maxlen)\n",
    "    probs = emoji_model_best.predict(x)\n",
    "    pred = np.argmax(probs)\n",
    "    print(text, utils.label_to_emoji(pred))"
   ]
  },
  {
   "cell_type": "code",
   "execution_count": 34,
   "metadata": {},
   "outputs": [
    {
     "name": "stdout",
     "output_type": "stream",
     "text": [
      "I am not feeling happy 😞\n"
     ]
    }
   ],
   "source": [
    "predict('I am not feeling happy')"
   ]
  },
  {
   "cell_type": "code",
   "execution_count": null,
   "metadata": {},
   "outputs": [],
   "source": []
  }
 ],
 "metadata": {
  "kernelspec": {
   "display_name": "Python 3",
   "language": "python",
   "name": "python3"
  },
  "language_info": {
   "codemirror_mode": {
    "name": "ipython",
    "version": 3
   },
   "file_extension": ".py",
   "mimetype": "text/x-python",
   "name": "python",
   "nbconvert_exporter": "python",
   "pygments_lexer": "ipython3",
   "version": "3.6.7"
  }
 },
 "nbformat": 4,
 "nbformat_minor": 2
}
